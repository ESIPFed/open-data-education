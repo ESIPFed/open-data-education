{
 "cells": [
  {
   "cell_type": "raw",
   "metadata": {},
   "source": [
    "#Introduction to Cloud Computing\n",
    "#-- Systems administration (user roles, tagging, cost management), cloud best practices\n",
    "#-- Data storage, getting data in and out of the cloud\n",
    "##Overview\n",
    "Here you will learn briefly about cloud computing best practices, why you would utilize cloud computing for big data and "
   ]
  }
 ],
 "metadata": {
  "kernelspec": {
   "display_name": "Python 3",
   "language": "python",
   "name": "python3"
  },
  "language_info": {
   "codemirror_mode": {
    "name": "ipython",
    "version": 3
   },
   "file_extension": ".py",
   "mimetype": "text/x-python",
   "name": "python",
   "nbconvert_exporter": "python",
   "pygments_lexer": "ipython3",
   "version": "3.7.0"
  }
 },
 "nbformat": 4,
 "nbformat_minor": 4
}
